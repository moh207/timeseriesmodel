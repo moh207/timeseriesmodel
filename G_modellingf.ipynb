{
  "nbformat": 4,
  "nbformat_minor": 0,
  "metadata": {
    "colab": {
      "name": "G_modellingf.ipynb",
      "provenance": [],
      "collapsed_sections": []
    },
    "kernelspec": {
      "name": "python3",
      "display_name": "Python 3"
    },
    "language_info": {
      "name": "python"
    }
  },
  "cells": [
    {
      "cell_type": "code",
      "source": [
        "import pandas as pd\n",
        "import numpy as np\n",
        "import lightgbm \n",
        "from lightgbm import LGBMClassifier"
      ],
      "metadata": {
        "id": "wo6pd_bdvDh_"
      },
      "execution_count": 3,
      "outputs": []
    },
    {
      "cell_type": "markdown",
      "source": [
        "## Dataframe after filtering and adding new features"
      ],
      "metadata": {
        "id": "lOoFRZ_GtFEq"
      }
    },
    {
      "cell_type": "code",
      "source": [
        "alldf.id.unique()"
      ],
      "metadata": {
        "id": "v_Gqsmkesn7P"
      },
      "execution_count": null,
      "outputs": []
    },
    {
      "cell_type": "markdown",
      "source": [
        "### Work on stock with average difficulty (average accruacy compared to other stocks )"
      ],
      "metadata": {
        "id": "PF8Q9ZwztMFN"
      }
    },
    {
      "cell_type": "code",
      "source": [
        "tmpdf = alldf[alldf['id']==7].copy()\n",
        "tmpdf"
      ],
      "metadata": {
        "id": "QwNQU2Jns_5d"
      },
      "execution_count": null,
      "outputs": []
    },
    {
      "cell_type": "code",
      "source": [
        "tmpdf.shape"
      ],
      "metadata": {
        "id": "TGDf155LtyU-"
      },
      "execution_count": null,
      "outputs": []
    },
    {
      "cell_type": "code",
      "source": [
        "#stock label is balanced\n",
        "tmpdf.value_counts('target')"
      ],
      "metadata": {
        "id": "j5VJzlbTtw8g"
      },
      "execution_count": null,
      "outputs": []
    },
    {
      "cell_type": "code",
      "source": [
        "tmpdf = tmpdf.replace(np.nan,0)\n",
        "tmpdf.head()"
      ],
      "metadata": {
        "id": "8mtE8HkKtDIp"
      },
      "execution_count": null,
      "outputs": []
    },
    {
      "cell_type": "markdown",
      "source": [
        "### Function to reduce dimensions of dataframe to desired dimension, using truncated svd dimensionality reduction method"
      ],
      "metadata": {
        "id": "VAKUpCTntg5y"
      }
    },
    {
      "cell_type": "code",
      "source": [
        "def reduce(df, dim):\n",
        "    svd = TruncatedSVD(n_components=dim, n_iter=7, random_state=42)\n",
        "    svd.fit(tmpdf.iloc[0:3000,:-1])\n",
        "    return svd.transform(df)"
      ],
      "metadata": {
        "id": "4hZPKkPDtDLL"
      },
      "execution_count": null,
      "outputs": []
    },
    {
      "cell_type": "code",
      "source": [
        "svd_all = reduce(tmpdf.iloc[: ,:-1],100)\n",
        "sv_all = pd.DataFrame(svd_all, columns = list(str(i).zfill(2) for i in range(svd_all.shape[1])))\n",
        "sv_all"
      ],
      "metadata": {
        "id": "VUshtMlLtDQQ"
      },
      "execution_count": null,
      "outputs": []
    },
    {
      "cell_type": "markdown",
      "source": [
        "## Feature selection on truncated SVD datasframe, using backward feature selection to filter top 20 feautres"
      ],
      "metadata": {
        "id": "aYcwNbqpusR1"
      }
    },
    {
      "cell_type": "code",
      "source": [
        "from sklearn.feature_selection import SequentialFeatureSelector\n",
        "from mlxtend.evaluate import PredefinedHoldoutSplit\n",
        "#customized train test split for feature selection evaluation\n",
        "piter = PredefinedHoldoutSplit(list(range(3000,4490)))"
      ],
      "metadata": {
        "id": "Kzk2BUU6tDSm"
      },
      "execution_count": null,
      "outputs": []
    },
    {
      "cell_type": "code",
      "source": [
        "sfs = SequentialFeatureSelector(LGBMClassifier(seed=42), \n",
        "                                n_features_to_select = 20,\n",
        "                                direction='backward',\n",
        "                                scoring='accuracy',\n",
        "                                cv=piter) #Try 'backward'"
      ],
      "metadata": {
        "id": "OlOPLvaZtDU6"
      },
      "execution_count": null,
      "outputs": []
    },
    {
      "cell_type": "code",
      "source": [
        "#fit backward feature selection wrapper to filter best 20 features\n",
        "sfs.fit(sv_all, np.ravel(tmpdf.iloc[:,-1:]))"
      ],
      "metadata": {
        "id": "JGDDe1x4tDXR"
      },
      "execution_count": null,
      "outputs": []
    },
    {
      "cell_type": "code",
      "source": [
        "lgb = LGBMClassifier(seed=42)\n",
        "y = tmpdf.iloc[0:3000,-1:]\n",
        "lgb.fit(sv_all[list(sv_all.columns[sfs.get_support()])].iloc[0:3000], y)"
      ],
      "metadata": {
        "id": "Mb0jm_LDtDZp"
      },
      "execution_count": null,
      "outputs": []
    },
    {
      "cell_type": "code",
      "source": [
        "#model evaluation, predicting data\n",
        "y_pred=lgb.predict(sv_all[list(sv_all.columns[sfs.get_support()])].iloc[3000:])\n",
        "y_test = tmpdf.iloc[3000:,-1:]"
      ],
      "metadata": {
        "id": "0LKgSrvMtDb_"
      },
      "execution_count": null,
      "outputs": []
    },
    {
      "cell_type": "code",
      "source": [
        "from sklearn.metrics import accuracy_score\n",
        "accuracy=accuracy_score(y_test, y_pred)\n",
        "print('LightGBM Model accuracy score: {0:0.4f}'.format(accuracy))"
      ],
      "metadata": {
        "id": "elz66LvrtDeb"
      },
      "execution_count": null,
      "outputs": []
    },
    {
      "cell_type": "markdown",
      "source": [
        "## Tuning Model for better accuracy using optuna hyperparameter tuning"
      ],
      "metadata": {
        "id": "FvdrzrnX4pLr"
      }
    },
    {
      "cell_type": "code",
      "source": [
        "import lightgbm as lgb\n",
        "import optuna\n",
        "from sklearn.model_selection import train_test_split\n",
        "import sklearn"
      ],
      "metadata": {
        "id": "2YnHr09CtDgt"
      },
      "execution_count": null,
      "outputs": []
    },
    {
      "cell_type": "code",
      "source": [
        "import optuna\n",
        "def objective(trial):\n",
        "    X_train,X_test,y_train,y_test = train_test_split(sv_all,y,test_size=0.25)\n",
        "    dtrain = lgb.Dataset(X_train, label=y_train)\n",
        "\n",
        "    param = {\n",
        "        \"objective\": \"binary\",\n",
        "        \"metric\": \"binary_logloss\",\n",
        "        \"verbosity\": -1,\n",
        "        \"boosting_type\": \"gbdt\",\n",
        "        \"lambda_l1\": trial.suggest_float(\"lambda_l1\", 1e-8, 10.0, log=True),\n",
        "        \"lambda_l2\": trial.suggest_float(\"lambda_l2\", 1e-8, 10.0, log=True),\n",
        "        \"num_leaves\": trial.suggest_int(\"num_leaves\", 2, 256),\n",
        "        \"feature_fraction\": trial.suggest_float(\"feature_fraction\", 0.4, 1.0),\n",
        "        \"bagging_fraction\": trial.suggest_float(\"bagging_fraction\", 0.4, 1.0),\n",
        "        \"bagging_freq\": trial.suggest_int(\"bagging_freq\", 1, 7),\n",
        "        \"min_child_samples\": trial.suggest_int(\"min_child_samples\", 5, 100),\n",
        "    }\n",
        "\n",
        "    gbm = lgb.train(param, dtrain)\n",
        "    preds = gbm.predict(X_test)\n",
        "    pred_labels = np.rint(preds)\n",
        "    accuracy = sklearn.metrics.accuracy_score(y_test, pred_labels)\n",
        "    return accuracy"
      ],
      "metadata": {
        "id": "mE9eDROltDjH"
      },
      "execution_count": null,
      "outputs": []
    },
    {
      "cell_type": "code",
      "source": [
        "study = optuna.create_study(direction=\"maximize\")\n",
        "study.optimize(objective, n_trials=50)"
      ],
      "metadata": {
        "id": "mBYVhHjftDli"
      },
      "execution_count": null,
      "outputs": []
    },
    {
      "cell_type": "code",
      "source": [
        ""
      ],
      "metadata": {
        "id": "z_AMD6setDoJ"
      },
      "execution_count": null,
      "outputs": []
    }
  ]
}